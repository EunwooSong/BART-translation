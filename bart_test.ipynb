{
 "cells": [
  {
   "cell_type": "markdown",
   "metadata": {},
   "source": [
    "bart 모델 불러오기"
   ]
  },
  {
   "cell_type": "code",
   "execution_count": 1,
   "metadata": {},
   "outputs": [
    {
     "name": "stderr",
     "output_type": "stream",
     "text": [
      "c:\\Users\\eunwo\\OneDrive\\바탕 화면\\BART\\venv\\Lib\\site-packages\\tqdm\\auto.py:21: TqdmWarning: IProgress not found. Please update jupyter and ipywidgets. See https://ipywidgets.readthedocs.io/en/stable/user_install.html\n",
      "  from .autonotebook import tqdm as notebook_tqdm\n"
     ]
    }
   ],
   "source": [
    "from transformers import AutoTokenizer, AutoModel\n",
    "\n",
    "# bart-base model 불러오기 (pre-en)\n",
    "tokenizer = AutoTokenizer.from_pretrained(\"facebook/bart-base\")\n",
    "model = AutoModel.from_pretrained(\"facebook/bart-base\")"
   ]
  },
  {
   "cell_type": "markdown",
   "metadata": {},
   "source": [
    "data 불러오기(en-ko)"
   ]
  },
  {
   "cell_type": "code",
   "execution_count": 2,
   "metadata": {},
   "outputs": [
    {
     "name": "stdout",
     "output_type": "stream",
     "text": [
      "원하시는 색상을 회신해 주시면 바로 제작 들어가겠습니다.\n"
     ]
    }
   ],
   "source": [
    "# noise 없는 데이터 셋으로 준비(en, ko)\n",
    "import pandas as pd\n",
    "\n",
    "train_df = pd.read_csv('./data/train.tsv', sep='\\t')\n",
    "test_df = pd.read_csv('./data/test.tsv', sep='\\t')\n",
    "\n",
    "print(train_df['kr'][0])\n"
   ]
  },
  {
   "cell_type": "markdown",
   "metadata": {},
   "source": [
    "preprocessing data\n",
    "1. 번역작업임을 알리는 프롬포트 작성\n",
    "2. 최대 길이로설정한 것 보다 길지 않도록 시퀀스 구성\n",
    "3. 영어 Tokenizer는 가능, 한글 Tokenizer는 따로 처리(한글 없잖)\n",
    "(영어 tokenizer는 있는데... 한글은...? )"
   ]
  },
  {
   "cell_type": "code",
   "execution_count": 3,
   "metadata": {},
   "outputs": [],
   "source": [
    "def preprocessing_dataset(prefix, data):\n",
    "    inputs = [prefix + d for d in data['en']]\n",
    "    labels = [d for d in data['kr']]\n",
    "    model_input = tokenizer(inputs, text_target=labels, max_length=128, truncation=True)\n",
    "    return model_input\n",
    "\n",
    "tokenized_train_dataset = preprocessing_dataset('', train_df) \n",
    "tokenized_train_dataset"
   ]
  },
  {
   "cell_type": "code",
   "execution_count": 5,
   "metadata": {},
   "outputs": [
    {
     "name": "stdout",
     "output_type": "stream",
     "text": [
      "<s>원하시는 색상을 회신해 주시면 바로 제작 들어가겠습니다.</s>\n"
     ]
    }
   ],
   "source": [
    "#토큰화 테스트\n",
    "from transformers import BartForConditionalGeneration, BartTokenizerFast\n",
    "\n",
    "tok = BartTokenizerFast.from_pretrained(\"facebook/bart-base\")\n",
    "\n",
    "input = tok.encode(train_df['en'][0])\n",
    "\n",
    "print(tok.decode(input, skip_special_tokens=True))"
   ]
  }
 ],
 "metadata": {
  "kernelspec": {
   "display_name": "venv",
   "language": "python",
   "name": "python3"
  },
  "language_info": {
   "codemirror_mode": {
    "name": "ipython",
    "version": 3
   },
   "file_extension": ".py",
   "mimetype": "text/x-python",
   "name": "python",
   "nbconvert_exporter": "python",
   "pygments_lexer": "ipython3",
   "version": "3.11.1"
  },
  "orig_nbformat": 4
 },
 "nbformat": 4,
 "nbformat_minor": 2
}
